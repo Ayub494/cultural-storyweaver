{
  "cells": [
    {
      "cell_type": "markdown",
      "metadata": {
        "id": "view-in-github",
        "colab_type": "text"
      },
      "source": [
        "<a href=\"https://colab.research.google.com/github/Ayub494/cultural-storyweaver/blob/main/moralStoryGenerator.ipynb\" target=\"_parent\"><img src=\"https://colab.research.google.com/assets/colab-badge.svg\" alt=\"Open In Colab\"/></a>"
      ]
    },
    {
      "cell_type": "markdown",
      "source": [
        "**Install Required Libraries**"
      ],
      "metadata": {
        "id": "J7srGwz5DGG_"
      }
    },
    {
      "cell_type": "code",
      "execution_count": null,
      "metadata": {
        "id": "AdLj3e19It6a"
      },
      "outputs": [],
      "source": [
        "!pip install streamlit\n",
        "!pip install --upgrade google-cloud-aiplatform\n",
        "!pip install vertexai"
      ]
    },
    {
      "cell_type": "markdown",
      "source": [
        "**Authenticate with Google Cloud**\n",
        "\n"
      ],
      "metadata": {
        "id": "NQD-jhnQDgtq"
      }
    },
    {
      "cell_type": "code",
      "source": [
        "from google.colab import auth\n",
        "auth.authenticate_user()"
      ],
      "metadata": {
        "id": "8ROgiWIcqx8m"
      },
      "execution_count": 13,
      "outputs": []
    },
    {
      "cell_type": "code",
      "source": [
        "!gcloud auth list"
      ],
      "metadata": {
        "id": "39Zz0DMDrTva"
      },
      "execution_count": null,
      "outputs": []
    },
    {
      "cell_type": "markdown",
      "source": [
        "**Streamlit + Gemini on Vertex AI**\n",
        "\n",
        "\n",
        "> vertexai.init(...): Initializes your Vertex AI project and location.\n",
        "\n",
        "> GenerativeModel(\"gemini-2.0-flash\"): Loads the Gemini model to generate stories.\n",
        "\n",
        "> st.text_input(), st.selectbox(), etc.: Used to collect user input for the story (e.g., country, age group, moral).\n",
        "\n",
        "> model.generate_content(prompt): Generates a cultural folk story using the Gemini model.\n",
        "\n",
        "> st.download_button(): Lets users download the story as a text file.\n",
        "\n",
        "\n",
        "\n",
        "\n",
        "\n",
        "\n",
        "\n",
        "\n",
        "\n",
        "\n",
        "\n"
      ],
      "metadata": {
        "id": "HBIOKtwEDt_f"
      }
    },
    {
      "cell_type": "code",
      "execution_count": null,
      "metadata": {
        "id": "xCTlXsh8GClD"
      },
      "outputs": [],
      "source": [
        "%%writefile app.py\n",
        "\n",
        "import streamlit as st\n",
        "from vertexai.generative_models import GenerativeModel\n",
        "import vertexai\n",
        "from google.cloud import translate_v2 as translate\n",
        "import os\n",
        "\n",
        "vertexai.init(project=\"storygenerator-0106\", location=\"us-central1\")\n",
        "model = GenerativeModel(\"gemini-2.0-flash\")\n",
        "\n",
        "translate_client = translate.Client()\n",
        "st.set_page_config(page_title=\"Moral StoryWeaver\", layout=\"centered\")\n",
        "st.title(\"🌍 Cultural StoryWeaver\")\n",
        "st.markdown(\"Generate children's folk stories with morals!\")\n",
        "\n",
        "country = st.text_input(\"Enter a country or culture (e.g., India, Nigeria, Japan):\")\n",
        "age_group = st.selectbox(\"Select an age group:\", [\"5-8\", \"9-12\", \"13-16\"])\n",
        "moral = st.text_input(\"Enter a moral or life lesson (e.g., Honesty, Kindness):\")\n",
        "story_length = st.slider(\"Select story length (in paragraphs):\", 2, 6, 3)\n",
        "\n",
        "if st.button(\"Generate Story\"):\n",
        "    if not country or not moral:\n",
        "        st.warning(\"Please enter both country and moral.\")\n",
        "    else:\n",
        "        # --- Construct the prompt ---\n",
        "        prompt = f\"\"\"\n",
        "        Write a culturally inspired folk story from {country}.\n",
        "        Provide appropriate title for the story.\n",
        "        It should be appropriate for children aged {age_group} years.\n",
        "        The story should have the moral: \"{moral}\".\n",
        "        Keep the language simple and imaginative.\n",
        "        Limit it to around {story_length} paragraphs.\n",
        "        \"\"\"\n",
        "\n",
        "        with st.spinner(\"Generating story with Gemini...\"):\n",
        "            response = model.generate_content(prompt)\n",
        "            story_final = response.text\n",
        "\n",
        "        st.success(\"Here is your story!\")\n",
        "        st.markdown(\"---\")\n",
        "        st.markdown(story_final)\n",
        "\n",
        "        # Optionally: Allow download\n",
        "        st.download_button(\"Download Story\", story_final, file_name=\"aiGenerated_cultural_story.txt\")"
      ]
    },
    {
      "cell_type": "markdown",
      "source": [
        "**Run and Expose the Streamlit App**"
      ],
      "metadata": {
        "id": "I2xZOV-FEwyK"
      }
    },
    {
      "cell_type": "code",
      "execution_count": null,
      "metadata": {
        "id": "ccB_ANnAebJk"
      },
      "outputs": [],
      "source": [
        "!curl https://loca.lt/mytunnelpassword"
      ]
    },
    {
      "cell_type": "code",
      "execution_count": 17,
      "metadata": {
        "id": "QN2k0lLthyUR"
      },
      "outputs": [],
      "source": [
        "!streamlit run app.py &>/content/logs.txt &"
      ]
    },
    {
      "cell_type": "code",
      "execution_count": null,
      "metadata": {
        "id": "qJGCZxmpiDgQ"
      },
      "outputs": [],
      "source": [
        "!npx localtunnel --port 8501"
      ]
    }
  ],
  "metadata": {
    "colab": {
      "provenance": [],
      "authorship_tag": "ABX9TyP1aPxcUG324RQTuTov2p2x",
      "include_colab_link": true
    },
    "kernelspec": {
      "display_name": "Python 3",
      "name": "python3"
    },
    "language_info": {
      "name": "python"
    }
  },
  "nbformat": 4,
  "nbformat_minor": 0
}